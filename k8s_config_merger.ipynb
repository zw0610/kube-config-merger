{
 "cells": [
  {
   "cell_type": "code",
   "execution_count": 1,
   "metadata": {},
   "outputs": [],
   "source": [
    "import yaml\n",
    "from pprint import pprint\n",
    "from copy import deepcopy"
   ]
  },
  {
   "cell_type": "code",
   "execution_count": 2,
   "metadata": {},
   "outputs": [],
   "source": [
    "config_filename1 = \"/Users/lucas/Projects/config1\"\n",
    "config_filename2 = \"/Users/lucas/Projects/config2\""
   ]
  },
  {
   "cell_type": "code",
   "execution_count": 3,
   "metadata": {},
   "outputs": [],
   "source": [
    "with open(config_filename1) as f:\n",
    "    yaml1 = yaml.load(f, Loader=yaml.FullLoader)\n",
    "    \n",
    "with open(config_filename2) as f:\n",
    "    yaml2 = yaml.load(f, Loader=yaml.FullLoader)"
   ]
  },
  {
   "cell_type": "code",
   "execution_count": 4,
   "metadata": {},
   "outputs": [],
   "source": [
    "class Config:\n",
    "    \n",
    "    _keys_str = {\n",
    "        \"apiVersion\",\n",
    "        \"current-context\",\n",
    "        \"kind\"\n",
    "    }\n",
    "    \n",
    "    _keys_list = {\n",
    "        \"clusters\",\n",
    "        \"contexts\",\n",
    "        \"users\"\n",
    "    }\n",
    "        \n",
    "    @staticmethod\n",
    "    def verify(config):\n",
    "        return False not in [k in config.get_content().keys() for k in Config._keys_str.union(Config._keys_list)]\n",
    "    \n",
    "    def __init__(self, config=None):\n",
    "        self._content = {}\n",
    "        if config is not None:\n",
    "            self._content = deepcopy(config)\n",
    "            \n",
    "    def is_empty(self):\n",
    "        return self._content == {}\n",
    "    \n",
    "    def get_content(self):\n",
    "        return self._content\n",
    "            \n",
    "    def __add__(self, config):\n",
    "        if self.is_empty():\n",
    "            return deepcopy(config.get_content())\n",
    "        \n",
    "        if config.is_empty():\n",
    "            return self.get_content()\n",
    "        \n",
    "        assert Config.verify(self) == True\n",
    "        assert Config.verify(config) == True\n",
    "        \n",
    "        assert self._content['kind'] == 'Config'\n",
    "        assert config.get_content()['kind'] == 'Config'\n",
    "        \n",
    "        assert self._content['apiVersion'] == config.get_content()['apiVersion']\n",
    "        \n",
    "        merged = {k:self._content[k]+config.get_content()[k] for k in Config._keys_list}\n",
    "        \n",
    "        merged['kind'] = 'Config'\n",
    "        merged['apiVersion'] = self._content['apiVersion']\n",
    "        merged['current-context'] = self._content['current-context']\n",
    "        \n",
    "        return Config(deepcopy(merged))\n",
    "            \n",
    "    \n",
    "    def __iadd__(self, config):\n",
    "        if self._content == {}:\n",
    "            self._content = deepcopy(config.get_content())\n",
    "        else:\n",
    "            self._content = self.__add__(config)"
   ]
  },
  {
   "cell_type": "code",
   "execution_count": 5,
   "metadata": {},
   "outputs": [],
   "source": [
    "config1 = Config(yaml1)\n",
    "config2 = Config(yaml2)"
   ]
  },
  {
   "cell_type": "code",
   "execution_count": 6,
   "metadata": {},
   "outputs": [],
   "source": [
    "new_config = config1 + config2"
   ]
  },
  {
   "cell_type": "code",
   "execution_count": 7,
   "metadata": {},
   "outputs": [],
   "source": [
    "output_filename = \"/Users/lucas/Projects/config\"\n",
    "\n",
    "with open(output_filename, 'w') as f:\n",
    "    f.write(\n",
    "        yaml.dump(new_config.get_content())\n",
    "    )"
   ]
  },
  {
   "cell_type": "code",
   "execution_count": null,
   "metadata": {},
   "outputs": [],
   "source": []
  }
 ],
 "metadata": {
  "kernelspec": {
   "display_name": "Python 3",
   "language": "python",
   "name": "python3"
  },
  "language_info": {
   "codemirror_mode": {
    "name": "ipython",
    "version": 3
   },
   "file_extension": ".py",
   "mimetype": "text/x-python",
   "name": "python",
   "nbconvert_exporter": "python",
   "pygments_lexer": "ipython3",
   "version": "3.7.4"
  }
 },
 "nbformat": 4,
 "nbformat_minor": 2
}
